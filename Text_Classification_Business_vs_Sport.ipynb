{
  "nbformat": 4,
  "nbformat_minor": 0,
  "metadata": {
    "colab": {
      "provenance": [],
      "gpuType": "T4",
      "authorship_tag": "ABX9TyNLEt9aIEHmzQJBNoRuePxK"
    },
    "kernelspec": {
      "name": "python3",
      "display_name": "Python 3"
    },
    "language_info": {
      "name": "python"
    },
    "accelerator": "GPU"
  },
  "cells": [
    {
      "cell_type": "markdown",
      "source": [
        "Install transformers."
      ],
      "metadata": {
        "id": "WFTBBMpOlylq"
      }
    },
    {
      "cell_type": "code",
      "source": [
        "# install from repository otherwise we would get an error.\n",
        "! pip install -U git+https://github.com/huggingface/transformers.git\n",
        "! pip install -U git+https://github.com/huggingface/accelerate.git"
      ],
      "metadata": {
        "id": "e8hnDCMA9oVD"
      },
      "execution_count": null,
      "outputs": []
    },
    {
      "cell_type": "markdown",
      "source": [
        "# Read the Data"
      ],
      "metadata": {
        "id": "v-mCuo7xl2hT"
      }
    },
    {
      "cell_type": "code",
      "execution_count": null,
      "metadata": {
        "id": "NtN3NNz_mZeQ"
      },
      "outputs": [],
      "source": [
        "!wget https://raw.githubusercontent.com/PacktPublishing/Python-Natural-Language-Processing-Cookbook/master/Chapter04/bbc-text.csv"
      ]
    },
    {
      "cell_type": "code",
      "source": [
        "import csv\n",
        "\n",
        "def read_csv(csv_file):\n",
        "  with open(csv_file, 'r', encoding='utf-8') as f:\n",
        "    reader = csv.reader(f, delimiter=',', quotechar='\"')\n",
        "    data_read = [row for row in reader]\n",
        "    return data_read\n",
        "\n",
        "def get_data(filename):\n",
        "  data = read_csv(filename)\n",
        "  data_dict = {}\n",
        "  for row in data[1:]:\n",
        "    category = row[0]\n",
        "    text = row[1]\n",
        "    if (category not in data_dict.keys()):\n",
        "      data_dict[category] = []\n",
        "    data_dict[category].append(text)\n",
        "  return data_dict\n",
        "\n",
        "dataset = get_data(\"/content/bbc-text.csv\")"
      ],
      "metadata": {
        "id": "i9YnxkBCmaY8"
      },
      "execution_count": 4,
      "outputs": []
    },
    {
      "cell_type": "code",
      "source": [
        "import pandas as pd\n",
        "\n",
        "category_count = {key: len(dataset[key]) for key in dataset.keys()}\n",
        "category_count_df = pd.DataFrame(category_count.items(), columns=[\"category\", \"count\"])\n",
        "\n",
        "import seaborn as sns\n",
        "import matplotlib.pyplot as plt\n",
        "sns.set({\"axes.facecolor\":\"#F2EAC5\", \"figure.facecolor\":\"#F2EAC5\"})\n",
        "palette = [\"#11264e\",\"#00507A\",\"#026e90\",\n",
        "           \"#008b99\",\"#6faea4\",\"#fcdcb0\",\"#FEE08B\",\"#faa96e\",\"#f36b3b\",\"#ef3f28\",\"#CC0028\"]\n",
        "sns.barplot(data=category_count_df, x=\"category\", y=\"count\",palette=palette,\n",
        "            edgecolor=\"#1c1c1c\", linewidth=3, saturation=1,)"
      ],
      "metadata": {
        "colab": {
          "base_uri": "https://localhost:8080/",
          "height": 466
        },
        "id": "SnilgbqqyqVq",
        "outputId": "a8c1d81d-f1b4-4d3e-ff8c-753d14d4cb29"
      },
      "execution_count": 5,
      "outputs": [
        {
          "output_type": "execute_result",
          "data": {
            "text/plain": [
              "<Axes: xlabel='category', ylabel='count'>"
            ]
          },
          "metadata": {},
          "execution_count": 5
        },
        {
          "output_type": "display_data",
          "data": {
            "text/plain": [
              "<Figure size 640x480 with 1 Axes>"
            ],
            "image/png": "[encoded data removed]"
          },
          "metadata": {}
        }
      ]
    },
    {
      "cell_type": "code",
      "source": [
        "import math\n",
        "def split_test_train(data, train_percent):\n",
        "  train_test_border = \\\n",
        "  math.ceil(train_percent*len(data))\n",
        "  train_data = data[0:train_test_border]\n",
        "  test_data = data[train_test_border:]\n",
        "  return (train_data, test_data)\n",
        "\n",
        "business_data = dataset[\"business\"]\n",
        "sports_data = dataset[\"sport\"]\n",
        "\n",
        "business_label = [\"business\"] * len(business_data)\n",
        "sport_label = [\"sport\"] * len(sports_data)\n",
        "\n",
        "business_string = \" \".join(business_data)\n",
        "sports_string = \" \".join(sports_data)\n",
        "\n",
        "(business_train_data, business_test_data) = split_test_train(business_data, 0.8)\n",
        "(sports_train_data, sports_test_data) = split_test_train(sports_data, 0.8)\n",
        "\n",
        "train_data = business_train_data + sports_train_data\n",
        "train_labels = [1] * len(business_train_data) + [0] * len(sports_train_data)\n",
        "\n",
        "test_data = business_test_data + sports_test_data\n",
        "test_labels = [1] * len(business_test_data) + [0] * len(sports_test_data)"
      ],
      "metadata": {
        "id": "XUO0EYmr0mzV"
      },
      "execution_count": 6,
      "outputs": []
    },
    {
      "cell_type": "code",
      "source": [
        "import tensorflow as tf\n",
        "import tensorflow_datasets as tfds\n",
        "\n",
        "train_ds = tf.data.Dataset.from_tensor_slices((train_data, train_labels))\n",
        "test_ds = tf.data.Dataset.from_tensor_slices((test_data, test_labels))"
      ],
      "metadata": {
        "id": "110jyZH36WB4"
      },
      "execution_count": 7,
      "outputs": []
    },
    {
      "cell_type": "code",
      "source": [
        "from transformers import RobertaTokenizer\n",
        "roberta_tokenizer = RobertaTokenizer.from_pretrained(\"roberta-base\")\n",
        "\n",
        "max_length = 100\n",
        "batch_size = 64\n",
        "\n",
        "def tokenize(review):\n",
        "  return roberta_tokenizer.encode_plus(\n",
        "      review,\n",
        "      add_special_tokens=True,\n",
        "      max_length=max_length,\n",
        "      padding=True,\n",
        "      truncation=True,\n",
        "      return_attention_mask=True\n",
        "  )\n",
        "\n",
        "def to_dict(input_ids, attention_masks, label):\n",
        "  return {\n",
        "      \"input_ids\": input_ids,\n",
        "      \"attention_mask\": attention_masks,\n",
        "           }, label\n",
        "\n",
        "def encode(ds):\n",
        "  input_ids_list = []\n",
        "  attention_mask_list = []\n",
        "  label_list = []\n",
        "\n",
        "  for review, label in tfds.as_numpy(ds):\n",
        "    input = tokenize(review.decode())\n",
        "\n",
        "    input_ids_list.append(input[\"input_ids\"])\n",
        "    attention_mask_list.append(input[\"attention_mask\"])\n",
        "    label_list.append(label)\n",
        "\n",
        "  return tf.data.Dataset.from_tensor_slices((input_ids_list,\n",
        "                                             attention_mask_list,\n",
        "                                             label_list)).map(to_dict)\n",
        "\n",
        "ds_train_encoded = encode(train_ds).shuffle(10000).batch(batch_size)\n",
        "ds_test_encoded = encode(test_ds).batch(batch_size)"
      ],
      "metadata": {
        "id": "ARRXdcpm38BP"
      },
      "execution_count": 8,
      "outputs": []
    },
    {
      "cell_type": "code",
      "source": [
        "learning_rate = 7e-5\n",
        "number_of_epochs = 8\n",
        "from tensorflow.keras.callbacks import Callback\n",
        "from sklearn.metrics import f1_score\n",
        "import os\n",
        "\n",
        "class myCallback(Callback):\n",
        "  def on_train_begin(self, logs={}):\n",
        "    self.count = 1\n",
        "\n",
        "  def on_epoch_end(self, batch, logs={}):\n",
        "    if not os.path.exists(\"save/model\" + str(self.count)):\n",
        "      os.makedirs(\"save/model\" + str(self.count))\n",
        "    self.model.save_pretrained(\"save/model\" + str(self.count))\n",
        "\n",
        "    y_pred = self.model.predict(ds_test_encoded)[\"logits\"]\n",
        "    y_pred = tf.nn.softmax(tf.convert_to_tensor(y_pred))\n",
        "    y_pred = tf.math.argmax(y_pred, axis=1)\n",
        "    f1_s = f1_score(test_labels, y_pred)\n",
        "    print('\\n f1 score is :', f1_s)\n",
        "    self.count += 1\n",
        "\n",
        "metrics = myCallback()\n",
        "\n",
        "from transformers import TFRobertaForSequenceClassification\n",
        "# model initialization\n",
        "model = TFRobertaForSequenceClassification.from_pretrained(\"roberta-base\")\n",
        "optimizer = tf.keras.optimizers.Adam(learning_rate=learning_rate, epsilon=1e-08)\n",
        "\n",
        "# we do not have one-hot vectors, we can use sparce categorical cross entropy and accuracy\n",
        "loss = tf.keras.losses.SparseCategoricalCrossentropy(from_logits=True)\n",
        "metric = tf.keras.metrics.SparseCategoricalAccuracy('accuracy')\n",
        "model.compile(optimizer=optimizer, loss=loss, metrics=[metric])"
      ],
      "metadata": {
        "colab": {
          "base_uri": "https://localhost:8080/"
        },
        "id": "DKG5PIp69b-M",
        "outputId": "ee5209e8-b1a6-4305-bf09-5123262a46ed"
      },
      "execution_count": 10,
      "outputs": [
        {
          "output_type": "stream",
          "name": "stderr",
          "text": [
            "Some weights of the PyTorch model were not used when initializing the TF 2.0 model TFRobertaForSequenceClassification: ['roberta.embeddings.position_ids']\n",
            "- This IS expected if you are initializing TFRobertaForSequenceClassification from a PyTorch model trained on another task or with another architecture (e.g. initializing a TFBertForSequenceClassification model from a BertForPreTraining model).\n",
            "- This IS NOT expected if you are initializing TFRobertaForSequenceClassification from a PyTorch model that you expect to be exactly identical (e.g. initializing a TFBertForSequenceClassification model from a BertForSequenceClassification model).\n",
            "Some weights or buffers of the TF 2.0 model TFRobertaForSequenceClassification were not initialized from the PyTorch model and are newly initialized: ['classifier.dense.weight', 'classifier.dense.bias', 'classifier.out_proj.weight', 'classifier.out_proj.bias']\n",
            "You should probably TRAIN this model on a down-stream task to be able to use it for predictions and inference.\n"
          ]
        }
      ]
    },
    {
      "cell_type": "code",
      "source": [
        "%load_ext tensorboard\n",
        "\n",
        "# Clear any logs from previous runs\n",
        "!rm -rf ./logs/\n",
        "\n",
        "log_dir = \"logs/fit/\"\n",
        "tensorboard_callback = tf.keras.callbacks.TensorBoard(log_dir=log_dir, histogram_freq=1)"
      ],
      "metadata": {
        "id": "yfj7aT26Oa4j"
      },
      "execution_count": 11,
      "outputs": []
    },
    {
      "cell_type": "code",
      "source": [
        "model.fit(ds_train_encoded, epochs=number_of_epochs,\n",
        "          validation_data=ds_test_encoded, callbacks=[metrics])#, tensorboard_callback])"
      ],
      "metadata": {
        "colab": {
          "base_uri": "https://localhost:8080/"
        },
        "id": "DqdlTQ_gG_Sl",
        "outputId": "cd37a444-e46a-47fd-c016-7dc4a101c29d"
      },
      "execution_count": 12,
      "outputs": [
        {
          "output_type": "stream",
          "name": "stdout",
          "text": [
            "Epoch 1/8\n",
            "4/4 [==============================] - 5s 292ms/step\n",
            "\n",
            " f1 score is : 0.9577464788732395\n",
            "13/13 [==============================] - 85s 2s/step - loss: 0.3438 - accuracy: 0.8543 - val_loss: 0.2036 - val_accuracy: 0.9559\n",
            "Epoch 2/8\n",
            "4/4 [==============================] - 1s 295ms/step\n",
            "\n",
            " f1 score is : 0.9902912621359222\n",
            "13/13 [==============================] - 22s 2s/step - loss: 0.0698 - accuracy: 0.9853 - val_loss: 0.0610 - val_accuracy: 0.9902\n",
            "Epoch 3/8\n",
            "4/4 [==============================] - 1s 302ms/step\n",
            "\n",
            " f1 score is : 0.9902912621359222\n",
            "13/13 [==============================] - 21s 2s/step - loss: 0.0505 - accuracy: 0.9914 - val_loss: 0.0302 - val_accuracy: 0.9902\n",
            "Epoch 4/8\n",
            "4/4 [==============================] - 1s 305ms/step\n",
            "\n",
            " f1 score is : 0.9951219512195122\n",
            "13/13 [==============================] - 27s 2s/step - loss: 0.0209 - accuracy: 0.9939 - val_loss: 0.0100 - val_accuracy: 0.9951\n",
            "Epoch 5/8\n",
            "4/4 [==============================] - 1s 316ms/step\n",
            "\n",
            " f1 score is : 1.0\n",
            "13/13 [==============================] - 21s 2s/step - loss: 0.0042 - accuracy: 0.9988 - val_loss: 8.1135e-04 - val_accuracy: 1.0000\n",
            "Epoch 6/8\n",
            "4/4 [==============================] - 1s 309ms/step\n",
            "\n",
            " f1 score is : 1.0\n",
            "13/13 [==============================] - 22s 2s/step - loss: 0.0099 - accuracy: 0.9988 - val_loss: 5.9681e-04 - val_accuracy: 1.0000\n",
            "Epoch 7/8\n",
            "4/4 [==============================] - 1s 315ms/step\n",
            "\n",
            " f1 score is : 1.0\n",
            "13/13 [==============================] - 23s 2s/step - loss: 6.5075e-04 - accuracy: 1.0000 - val_loss: 3.0976e-04 - val_accuracy: 1.0000\n",
            "Epoch 8/8\n",
            "4/4 [==============================] - 1s 319ms/step\n",
            "\n",
            " f1 score is : 1.0\n",
            "13/13 [==============================] - 23s 2s/step - loss: 4.2142e-04 - accuracy: 1.0000 - val_loss: 2.6116e-04 - val_accuracy: 1.0000\n"
          ]
        },
        {
          "output_type": "execute_result",
          "data": {
            "text/plain": [
              "<keras.callbacks.History at 0x7faa24a16f50>"
            ]
          },
          "metadata": {},
          "execution_count": 12
        }
      ]
    },
    {
      "cell_type": "code",
      "source": [
        "%tensorboard --logdir logs/fit"
      ],
      "metadata": {
        "id": "oRUBIJv3HcfJ"
      },
      "execution_count": null,
      "outputs": []
    },
    {
      "cell_type": "code",
      "source": [
        "def test_model(text, label):\n",
        "  text = text.lower()\n",
        "  text_ds = tf.data.Dataset.from_tensor_slices(([text], [label]))\n",
        "  text_encoded = encode(text_ds).batch(1)\n",
        "  y_pred = model.predict(text_encoded)[\"logits\"]\n",
        "  y_pred = tf.nn.softmax(tf.convert_to_tensor(y_pred))\n",
        "  y_pred = tf.math.argmax(y_pred, axis=1)\n",
        "  return y_pred\n",
        "\n",
        "\n",
        "business_text = \"\"\"\n",
        "PwC Australia says it will sell its government business for A$1 (50p) after a scandal over the misuse of confidential government tax plans. The accounting giant has also announced the appointment of a new chief executive in the country. The move will allow the firm \"to move forward with predictability and focus,\" PwC Australia said in a statement.\n",
        "In January, it emerged that a former PwC Australia partner had leaked the classified information. The ex-partner, who was advising the Australian government, had shared drafts of corporate tax avoidance laws with colleagues, who used it to pitch to potential clients. The leaks occurred between 2014 and 2017. The company has said that no confidential information had been used to help clients pay less tax.\n",
        "However, politicians and officials have called for PwC Australia to be banned from being awarded government contracts until it satisfactorily responded to the scandal.\n",
        "Earlier this month, PwC Australia said it had identified 76 current and former partners linked to the scandal and handed their names to Australian lawmakers.\n",
        "On Monday, PwC Australia's acting chief executive Kristin Stubbins told a parliament inquiry that employees who were found to have acted improperly would face \"severe\" consequences.\n",
        "'We have failed the standards we set for ourselves as an organisation, and I apologise on behalf of our firm,\n",
        " she said.\n",
        "\"\"\"\n",
        "# text from: https://www.bbc.com/news/business-66016270\n",
        "test_model(business_text, 1)"
      ],
      "metadata": {
        "colab": {
          "base_uri": "https://localhost:8080/"
        },
        "id": "rhTgTph5gYZk",
        "outputId": "c00fe8fa-26cc-404e-ee40-3b0f5b97602f"
      },
      "execution_count": 31,
      "outputs": [
        {
          "output_type": "stream",
          "name": "stdout",
          "text": [
            "1/1 [==============================] - 0s 84ms/step\n"
          ]
        },
        {
          "output_type": "execute_result",
          "data": {
            "text/plain": [
              "<tf.Tensor: shape=(1,), dtype=int64, numpy=array([1])>"
            ]
          },
          "metadata": {},
          "execution_count": 31
        }
      ]
    },
    {
      "cell_type": "code",
      "source": [
        "sport_text = \"\"\"\n",
        "Kalidou Koulibaly has become the latest Chelsea player to move to Saudi Arabia after the defender completed a transfer to Al-Hilal for an undisclosed fee.\n",
        "The centre-back, 32, joins Ruben Neves at the Saudi Pro League side following the Wolves midfielder's £47m switch.\n",
        "Chelsea midfielder N'Golo Kante has also agreed to sign for Saudi champions Al-Ittihad, while team-mate Edouard Mendy is close to joining Al-Ahli.\n",
        "Koulibaly signed for Chelsea from Napoli last July on a four-year deal.\n",
        "He arrived at Stamford Bridge with European and international experience, after helping Napoli win the Italian Cup in 2020 and Senegal claim the Africa Cup of Nations in 2022.\n",
        "But he played just 32 games for the club in all competitions, scoring two goals in 23 Premier League appearances.\n",
        "\"From my first game to my last, it was an honour to wear this badge,\" Koulibaly said on Twitter.\n",
        "\"Last season wasn't the one we wanted, but I want to thank the fans and everyone at the club for your support.\"\n",
        "Chelsea did not disclose how much Al-Hilal have paid for Koulibaly - but reports suggest it could be as much as £20m.\n",
        "Koulibaly's arrival in Saudi Arabia follows a recent trend from European clubs that started with Cristiano Ronaldo's switch from Manchester United to Al-Nassr in January.\n",
        "\"\"\"\n",
        "# text from: https://www.bbc.com/sport/football/66009461\n",
        "test_model(sport_text, 0)"
      ],
      "metadata": {
        "colab": {
          "base_uri": "https://localhost:8080/"
        },
        "id": "zZy9kmptlDA9",
        "outputId": "2214a2a5-f8ba-4a9a-865a-cdcef134d0ad"
      },
      "execution_count": 33,
      "outputs": [
        {
          "output_type": "stream",
          "name": "stdout",
          "text": [
            "1/1 [==============================] - 0s 144ms/step\n"
          ]
        },
        {
          "output_type": "execute_result",
          "data": {
            "text/plain": [
              "<tf.Tensor: shape=(1,), dtype=int64, numpy=array([0])>"
            ]
          },
          "metadata": {},
          "execution_count": 33
        }
      ]
    },
    {
      "cell_type": "code",
      "source": [
        "sport_hard_text = \"\"\"\n",
        "Wrexham Football Club owners Ryan Reynolds and Rob McElhenney are part of an investor group taking a 24% equity stake in Formula 1 team Alpine.\n",
        "Alpine's parent company, Renault, announced on Monday the two Hollywood actors are investing alongside Otro Capital and RedBird Capital Partners.\n",
        "The 200m euros (£171m) deal values Alpine Racing, which is based in Britain, at about £706m.\n",
        "Alpine are fifth in this year's F1 constructors' championship.\n",
        "Reynolds and McElhenney completed their takeover at Wrexham in 2021 and the Welsh club were promoted back to the Football League after a 15-year absence when they won the National League title in April.\n",
        "US investment firm RedBird is an investor in Fenway Sports Group, the owner of Premier League side Liverpool and the Boston Red Sox baseball team.\n",
        "RedBird bought Italian Serie A club AC Milan in August 2022 in a 1.2bn euro deal and also has a controlling stake in French Ligue 1 side Toulouse.\n",
        "Alpine chief executive Laurent Rossi said: \"This association is an important step to enhance our performance at all levels.\"\n",
        "Rossi added the investment would \"boost\" the F1 team's media profile, which in turn would support Alpine's \"performance over the long term\".\"\"\"\n",
        "# text from: https://www.bbc.com/sport/formula1/66016904\n",
        "test_model(sport_hard_text, 0)"
      ],
      "metadata": {
        "colab": {
          "base_uri": "https://localhost:8080/"
        },
        "id": "jl5aTHdclQkT",
        "outputId": "eab74154-3890-42bc-f6f0-952866674134"
      },
      "execution_count": 35,
      "outputs": [
        {
          "output_type": "stream",
          "name": "stdout",
          "text": [
            "1/1 [==============================] - 0s 73ms/step\n"
          ]
        },
        {
          "output_type": "execute_result",
          "data": {
            "text/plain": [
              "<tf.Tensor: shape=(1,), dtype=int64, numpy=array([1])>"
            ]
          },
          "metadata": {},
          "execution_count": 35
        }
      ]
    }
  ]
}